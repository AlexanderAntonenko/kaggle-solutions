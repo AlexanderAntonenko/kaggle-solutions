{
 "cells": [
  {
   "cell_type": "markdown",
   "metadata": {},
   "source": [
    "### Imports"
   ]
  },
  {
   "cell_type": "code",
   "execution_count": 29,
   "metadata": {},
   "outputs": [],
   "source": [
    "import pandas as pd\n",
    "import numpy as np\n",
    "import matplotlib.pyplot as plt\n",
    "%matplotlib inline\n",
    "import seaborn as sns\n",
    "from sklearn.model_selection import train_test_split"
   ]
  },
  {
   "cell_type": "code",
   "execution_count": 31,
   "metadata": {},
   "outputs": [],
   "source": [
    "from tensorflow.keras.models import Sequential\n",
    "from tensorflow.keras.layers import Dense, Conv2D, MaxPooling2D, Dropout, Flatten \n",
    "from tensorflow.keras import utils\n",
    "from tensorflow.keras.preprocessing import image\n",
    "from tensorflow.python.keras.preprocessing.image import ImageDataGenerator\n",
    "from tensorflow.keras.callbacks import ReduceLROnPlateau, ModelCheckpoint"
   ]
  },
  {
   "cell_type": "markdown",
   "metadata": {},
   "source": [
    "### Read data"
   ]
  },
  {
   "cell_type": "code",
   "execution_count": 32,
   "metadata": {},
   "outputs": [],
   "source": [
    "train_dataset = np.loadtxt(\"./data/train.csv\", skiprows=1, dtype='int', delimiter=\",\")\n",
    "test_dataset = np.loadtxt(\"./data/test.csv\", skiprows=1, dtype='int', delimiter=\",\")"
   ]
  },
  {
   "cell_type": "markdown",
   "metadata": {},
   "source": [
    "### Image size"
   ]
  },
  {
   "cell_type": "code",
   "execution_count": 33,
   "metadata": {},
   "outputs": [],
   "source": [
    "img_rows, img_cols = 28, 28"
   ]
  },
  {
   "cell_type": "markdown",
   "metadata": {},
   "source": [
    "### Preparate the  data"
   ]
  },
  {
   "cell_type": "code",
   "execution_count": 34,
   "metadata": {},
   "outputs": [],
   "source": [
    "train = train_dataset[:, 1:]\n",
    "test = test_dataset\n",
    "\n",
    "y = train_dataset[:, 0]\n",
    "y = utils.to_categorical(y)\n",
    "\n",
    "# Reformat data in 2D, backend Tensorflow\n",
    "train = train.reshape(train.shape[0],img_rows, img_cols,1)\n",
    "test = test.reshape(test.shape[0],img_rows, img_cols,1)\n",
    "\n",
    "input_shape = (img_rows, img_cols, 1)\n",
    "\n",
    "# Normalize data\n",
    "train , test= train.astype(\"float32\"), test.astype(\"float32\")\n",
    "train /= 255.0\n",
    "test /= 255.0"
   ]
  },
  {
   "cell_type": "markdown",
   "metadata": {},
   "source": [
    "### Visualize an image"
   ]
  },
  {
   "cell_type": "code",
   "execution_count": 35,
   "metadata": {},
   "outputs": [
    {
     "data": {
      "text/plain": [
       "([], <a list of 0 Text yticklabel objects>)"
      ]
     },
     "execution_count": 35,
     "metadata": {},
     "output_type": "execute_result"
    },
    {
     "data": {
      "image/png": "[encoded data removed]",
      "text/plain": [
       "<Figure size 432x288 with 1 Axes>"
      ]
     },
     "metadata": {},
     "output_type": "display_data"
    }
   ],
   "source": [
    "fig = plt.figure()\n",
    "plt.imshow(train[10000][:,:,0], cmap='gray', interpolation='none')\n",
    "plt.xticks([])\n",
    "plt.yticks([])"
   ]
  },
  {
   "cell_type": "markdown",
   "metadata": {},
   "source": [
    "### Take 10% from train data for validation"
   ]
  },
  {
   "cell_type": "code",
   "execution_count": 36,
   "metadata": {},
   "outputs": [],
   "source": [
    "X_train, X_val, Y_train, Y_val = train_test_split(train, y, test_size = 0.1, random_state=2)"
   ]
  },
  {
   "cell_type": "markdown",
   "metadata": {},
   "source": [
    "### Generate more data"
   ]
  },
  {
   "cell_type": "code",
   "execution_count": 37,
   "metadata": {},
   "outputs": [],
   "source": [
    "datagen = ImageDataGenerator(\n",
    "        rotation_range=10,  \n",
    "        zoom_range = 0.10,  \n",
    "        width_shift_range=0.1, \n",
    "        height_shift_range=0.1)"
   ]
  },
  {
   "cell_type": "markdown",
   "metadata": {},
   "source": [
    "### Look at generated data"
   ]
  },
  {
   "cell_type": "code",
   "execution_count": 38,
   "metadata": {},
   "outputs": [
    {
     "data": {
      "image/png": "[encoded data removed]",
      "text/plain": [
       "<Figure size 432x288 with 1 Axes>"
      ]
     },
     "metadata": {
      "needs_background": "light"
     },
     "output_type": "display_data"
    },
    {
     "data": {
      "image/png": "[encoded data removed]",
      "text/plain": [
       "<Figure size 432x288 with 1 Axes>"
      ]
     },
     "metadata": {
      "needs_background": "light"
     },
     "output_type": "display_data"
    },
    {
     "data": {
      "image/png": "[encoded data removed]",
      "text/plain": [
       "<Figure size 432x288 with 1 Axes>"
      ]
     },
     "metadata": {
      "needs_background": "light"
     },
     "output_type": "display_data"
    },
    {
     "data": {
      "image/png": "[encoded data removed]",
      "text/plain": [
       "<Figure size 432x288 with 1 Axes>"
      ]
     },
     "metadata": {
      "needs_background": "light"
     },
     "output_type": "display_data"
    },
    {
     "data": {
      "image/png": "[encoded data removed]",
      "text/plain": [
       "<Figure size 432x288 with 1 Axes>"
      ]
     },
     "metadata": {
      "needs_background": "light"
     },
     "output_type": "display_data"
    },
    {
     "data": {
      "image/png": "[encoded data removed]",
      "text/plain": [
       "<Figure size 432x288 with 1 Axes>"
      ]
     },
     "metadata": {
      "needs_background": "light"
     },
     "output_type": "display_data"
    }
   ],
   "source": [
    "i = 0\n",
    "data = X_train[10000]\n",
    "data = np.expand_dims(data, axis=0)\n",
    "for batch in datagen.flow(data, batch_size=1):\n",
    "    plt.figure(i)\n",
    "    imgplot = plt.imshow(batch[0][:,:,0], cmap='gray', interpolation='none')\n",
    "    i += 1\n",
    "    if i % 6 == 0:\n",
    "        break\n",
    "plt.show()"
   ]
  },
  {
   "cell_type": "markdown",
   "metadata": {},
   "source": [
    "### Create a consistent model and compile it"
   ]
  },
  {
   "cell_type": "code",
   "execution_count": 39,
   "metadata": {},
   "outputs": [
    {
     "name": "stdout",
     "output_type": "stream",
     "text": [
      "_________________________________________________________________\n",
      "Layer (type)                 Output Shape              Param #   \n",
      "=================================================================\n",
      "conv2d (Conv2D)              (None, 24, 24, 75)        1950      \n",
      "_________________________________________________________________\n",
      "max_pooling2d (MaxPooling2D) (None, 12, 12, 75)        0         \n",
      "_________________________________________________________________\n",
      "dropout (Dropout)            (None, 12, 12, 75)        0         \n",
      "_________________________________________________________________\n",
      "conv2d_1 (Conv2D)            (None, 8, 8, 100)         187600    \n",
      "_________________________________________________________________\n",
      "max_pooling2d_1 (MaxPooling2 (None, 4, 4, 100)         0         \n",
      "_________________________________________________________________\n",
      "dropout_1 (Dropout)          (None, 4, 4, 100)         0         \n",
      "_________________________________________________________________\n",
      "flatten (Flatten)            (None, 1600)              0         \n",
      "_________________________________________________________________\n",
      "dense (Dense)                (None, 500)               800500    \n",
      "_________________________________________________________________\n",
      "dropout_2 (Dropout)          (None, 500)               0         \n",
      "_________________________________________________________________\n",
      "dense_1 (Dense)              (None, 10)                5010      \n",
      "=================================================================\n",
      "Total params: 995,060\n",
      "Trainable params: 995,060\n",
      "Non-trainable params: 0\n",
      "_________________________________________________________________\n",
      "None\n"
     ]
    }
   ],
   "source": [
    "model = Sequential ()\n",
    "\n",
    "model.add(Conv2D(75, kernel_size=(5, 5),\n",
    "                 activation='relu',\n",
    "                 input_shape=input_shape))\n",
    "model.add(MaxPooling2D(pool_size=(2, 2)))\n",
    "model.add(Dropout(0.2))\n",
    "\n",
    "model.add(Conv2D(100, (5, 5), activation='relu'))\n",
    "model.add(MaxPooling2D(pool_size=(2, 2)))\n",
    "model.add(Dropout(0.2))\n",
    "\n",
    "model.add(Flatten())\n",
    "model.add(Dense(500, activation='relu'))\n",
    "model.add(Dropout(0.5))\n",
    "model.add(Dense(10, activation='softmax'))\n",
    "\n",
    "\n",
    "model.compile(loss=\"categorical_crossentropy\", optimizer=\"adam\", metrics=[\"accuracy\"])\n",
    "print(model.summary())"
   ]
  },
  {
   "cell_type": "markdown",
   "metadata": {},
   "source": [
    "### Create callbacks"
   ]
  },
  {
   "cell_type": "code",
   "execution_count": 40,
   "metadata": {},
   "outputs": [],
   "source": [
    "сheckpoint = ModelCheckpoint('mnist-cnn.hdf5', \n",
    "                              monitor='val_acc', \n",
    "                              save_best_only=True,\n",
    "                              verbose=1)\n",
    "\n"
   ]
  },
  {
   "cell_type": "code",
   "execution_count": 41,
   "metadata": {},
   "outputs": [],
   "source": [
    "learning_rate_reduction = ReduceLROnPlateau(monitor='val_acc', \n",
    "                                            patience=3, \n",
    "                                            verbose=1, \n",
    "                                            factor=0.5, \n",
    "                                            min_lr=0.00001)"
   ]
  },
  {
   "cell_type": "markdown",
   "metadata": {},
   "source": [
    "### Fit the network"
   ]
  },
  {
   "cell_type": "code",
   "execution_count": 42,
   "metadata": {
    "scrolled": false
   },
   "outputs": [
    {
     "name": "stdout",
     "output_type": "stream",
     "text": [
      "Epoch 1/30\n",
      "390/393 [============================>.] - ETA: 0s - loss: 0.4212 - acc: 0.8646\n",
      "Epoch 00001: val_acc improved from -inf to 0.97857, saving model to mnist-cnn.hdf5\n",
      "393/393 [==============================] - 24s 62ms/step - loss: 0.4189 - acc: 0.8655 - val_loss: 0.0702 - val_acc: 0.9786\n",
      "Epoch 2/30\n",
      "390/393 [============================>.] - ETA: 0s - loss: 0.1287 - acc: 0.9607\n",
      "Epoch 00002: val_acc improved from 0.97857 to 0.98429, saving model to mnist-cnn.hdf5\n",
      "393/393 [==============================] - 8s 19ms/step - loss: 0.1283 - acc: 0.9608 - val_loss: 0.0507 - val_acc: 0.9843\n",
      "Epoch 3/30\n",
      "390/393 [============================>.] - ETA: 0s - loss: 0.0917 - acc: 0.9719- \n",
      "Epoch 00003: val_acc improved from 0.98429 to 0.98667, saving model to mnist-cnn.hdf5\n",
      "393/393 [==============================] - 8s 20ms/step - loss: 0.0916 - acc: 0.9719 - val_loss: 0.0459 - val_acc: 0.9867\n",
      "Epoch 4/30\n",
      "391/393 [============================>.] - ETA: 0s - loss: 0.0787 - acc: 0.9756\n",
      "Epoch 00004: val_acc did not improve from 0.98667\n",
      "393/393 [==============================] - 8s 19ms/step - loss: 0.0787 - acc: 0.9755 - val_loss: 0.0492 - val_acc: 0.9864\n",
      "Epoch 5/30\n",
      "392/393 [============================>.] - ETA: 0s - loss: 0.0691 - acc: 0.9788\n",
      "Epoch 00005: val_acc improved from 0.98667 to 0.99143, saving model to mnist-cnn.hdf5\n",
      "393/393 [==============================] - 8s 19ms/step - loss: 0.0693 - acc: 0.9787 - val_loss: 0.0239 - val_acc: 0.9914\n",
      "Epoch 6/30\n",
      "390/393 [============================>.] - ETA: 0s - loss: 0.0609 - acc: 0.9805\n",
      "Epoch 00006: val_acc did not improve from 0.99143\n",
      "393/393 [==============================] - 8s 20ms/step - loss: 0.0610 - acc: 0.9805 - val_loss: 0.0294 - val_acc: 0.9907\n",
      "Epoch 7/30\n",
      "391/393 [============================>.] - ETA: 0s - loss: 0.0604 - acc: 0.9814\n",
      "Epoch 00007: val_acc improved from 0.99143 to 0.99286, saving model to mnist-cnn.hdf5\n",
      "393/393 [==============================] - 8s 19ms/step - loss: 0.0604 - acc: 0.9814 - val_loss: 0.0253 - val_acc: 0.9929\n",
      "Epoch 8/30\n",
      "392/393 [============================>.] - ETA: 0s - loss: 0.0550 - acc: 0.9833\n",
      "Epoch 00008: val_acc did not improve from 0.99286\n",
      "393/393 [==============================] - 8s 20ms/step - loss: 0.0549 - acc: 0.9834 - val_loss: 0.0272 - val_acc: 0.9912\n",
      "Epoch 9/30\n",
      "392/393 [============================>.] - ETA: 0s - loss: 0.0500 - acc: 0.9843\n",
      "Epoch 00009: val_acc did not improve from 0.99286\n",
      "393/393 [==============================] - 8s 19ms/step - loss: 0.0499 - acc: 0.9843 - val_loss: 0.0290 - val_acc: 0.9924\n",
      "Epoch 10/30\n",
      "392/393 [============================>.] - ETA: 0s - loss: 0.0508 - acc: 0.9845\n",
      "Epoch 00010: val_acc did not improve from 0.99286\n",
      "\n",
      "Epoch 00010: ReduceLROnPlateau reducing learning rate to 0.0005000000237487257.\n",
      "393/393 [==============================] - 8s 19ms/step - loss: 0.0507 - acc: 0.9846 - val_loss: 0.0242 - val_acc: 0.9924\n",
      "Epoch 11/30\n",
      "392/393 [============================>.] - ETA: 0s - loss: 0.0396 - acc: 0.9876\n",
      "Epoch 00011: val_acc improved from 0.99286 to 0.99524, saving model to mnist-cnn.hdf5\n",
      "393/393 [==============================] - 8s 20ms/step - loss: 0.0396 - acc: 0.9875 - val_loss: 0.0174 - val_acc: 0.9952\n",
      "Epoch 12/30\n",
      "390/393 [============================>.] - ETA: 0s - loss: 0.0332 - acc: 0.9901\n",
      "Epoch 00012: val_acc did not improve from 0.99524\n",
      "393/393 [==============================] - 8s 19ms/step - loss: 0.0332 - acc: 0.9901 - val_loss: 0.0241 - val_acc: 0.9924\n",
      "Epoch 13/30\n",
      "391/393 [============================>.] - ETA: 0s - loss: 0.0326 - acc: 0.9899\n",
      "Epoch 00013: val_acc improved from 0.99524 to 0.99595, saving model to mnist-cnn.hdf5\n",
      "393/393 [==============================] - 8s 19ms/step - loss: 0.0325 - acc: 0.9900 - val_loss: 0.0154 - val_acc: 0.9960\n",
      "Epoch 14/30\n",
      "392/393 [============================>.] - ETA: 0s - loss: 0.0327 - acc: 0.9897\n",
      "Epoch 00014: val_acc did not improve from 0.99595\n",
      "393/393 [==============================] - 8s 19ms/step - loss: 0.0326 - acc: 0.9897 - val_loss: 0.0169 - val_acc: 0.9960\n",
      "Epoch 15/30\n",
      "391/393 [============================>.] - ETA: 0s - loss: 0.0307 - acc: 0.9909\n",
      "Epoch 00015: val_acc did not improve from 0.99595\n",
      "393/393 [==============================] - 8s 19ms/step - loss: 0.0306 - acc: 0.9909 - val_loss: 0.0177 - val_acc: 0.9948\n",
      "Epoch 16/30\n",
      "392/393 [============================>.] - ETA: 0s - loss: 0.0318 - acc: 0.9906\n",
      "Epoch 00016: val_acc did not improve from 0.99595\n",
      "\n",
      "Epoch 00016: ReduceLROnPlateau reducing learning rate to 0.0002500000118743628.\n",
      "393/393 [==============================] - 8s 20ms/step - loss: 0.0318 - acc: 0.9906 - val_loss: 0.0165 - val_acc: 0.9952\n",
      "Epoch 17/30\n",
      "392/393 [============================>.] - ETA: 0s - loss: 0.0284 - acc: 0.9911\n",
      "Epoch 00017: val_acc did not improve from 0.99595\n",
      "393/393 [==============================] - 8s 19ms/step - loss: 0.0284 - acc: 0.9911 - val_loss: 0.0189 - val_acc: 0.9952\n",
      "Epoch 18/30\n",
      "392/393 [============================>.] - ETA: 0s - loss: 0.0254 - acc: 0.9919\n",
      "Epoch 00018: val_acc did not improve from 0.99595\n",
      "393/393 [==============================] - 8s 20ms/step - loss: 0.0254 - acc: 0.9918 - val_loss: 0.0150 - val_acc: 0.9960\n",
      "Epoch 19/30\n",
      "392/393 [============================>.] - ETA: 0s - loss: 0.0249 - acc: 0.9927\n",
      "Epoch 00019: val_acc did not improve from 0.99595\n",
      "\n",
      "Epoch 00019: ReduceLROnPlateau reducing learning rate to 0.0001250000059371814.\n",
      "393/393 [==============================] - 8s 20ms/step - loss: 0.0249 - acc: 0.9927 - val_loss: 0.0145 - val_acc: 0.9960\n",
      "Epoch 20/30\n",
      "392/393 [============================>.] - ETA: 0s - loss: 0.0217 - acc: 0.9937\n",
      "Epoch 00020: val_acc did not improve from 0.99595\n",
      "393/393 [==============================] - 8s 20ms/step - loss: 0.0217 - acc: 0.9936 - val_loss: 0.0171 - val_acc: 0.9960\n",
      "Epoch 21/30\n",
      "392/393 [============================>.] - ETA: 0s - loss: 0.0222 - acc: 0.9934\n",
      "Epoch 00021: val_acc did not improve from 0.99595\n",
      "393/393 [==============================] - 8s 19ms/step - loss: 0.0222 - acc: 0.9934 - val_loss: 0.0150 - val_acc: 0.9960\n",
      "Epoch 22/30\n",
      "391/393 [============================>.] - ETA: 0s - loss: 0.0217 - acc: 0.9929\n",
      "Epoch 00022: val_acc did not improve from 0.99595\n",
      "\n",
      "Epoch 00022: ReduceLROnPlateau reducing learning rate to 6.25000029685907e-05.\n",
      "393/393 [==============================] - 8s 19ms/step - loss: 0.0217 - acc: 0.9929 - val_loss: 0.0149 - val_acc: 0.9955\n",
      "Epoch 23/30\n",
      "392/393 [============================>.] - ETA: 0s - loss: 0.0201 - acc: 0.9934\n",
      "Epoch 00023: val_acc did not improve from 0.99595\n",
      "393/393 [==============================] - 8s 19ms/step - loss: 0.0200 - acc: 0.9934 - val_loss: 0.0157 - val_acc: 0.9960\n",
      "Epoch 24/30\n",
      "390/393 [============================>.] - ETA: 0s - loss: 0.0215 - acc: 0.9933- ETA: 0s - loss: 0.0212 - ac\n",
      "Epoch 00024: val_acc did not improve from 0.99595\n",
      "393/393 [==============================] - 8s 19ms/step - loss: 0.0214 - acc: 0.9933 - val_loss: 0.0168 - val_acc: 0.9955\n",
      "Epoch 25/30\n",
      "392/393 [============================>.] - ETA: 0s - loss: 0.0183 - acc: 0.9944\n",
      "Epoch 00025: val_acc did not improve from 0.99595\n",
      "\n",
      "Epoch 00025: ReduceLROnPlateau reducing learning rate to 3.125000148429535e-05.\n",
      "393/393 [==============================] - 8s 19ms/step - loss: 0.0182 - acc: 0.9944 - val_loss: 0.0162 - val_acc: 0.9955\n",
      "Epoch 26/30\n",
      "392/393 [============================>.] - ETA: 0s - loss: 0.0194 - acc: 0.9939\n",
      "Epoch 00026: val_acc did not improve from 0.99595\n",
      "393/393 [==============================] - 7s 19ms/step - loss: 0.0194 - acc: 0.9939 - val_loss: 0.0167 - val_acc: 0.9957\n",
      "Epoch 27/30\n",
      "390/393 [============================>.] - ETA: 0s - loss: 0.0177 - acc: 0.9944\n",
      "Epoch 00027: val_acc did not improve from 0.99595\n",
      "393/393 [==============================] - 8s 19ms/step - loss: 0.0177 - acc: 0.9943 - val_loss: 0.0168 - val_acc: 0.9957\n",
      "Epoch 28/30\n",
      "392/393 [============================>.] - ETA: 0s - loss: 0.0184 - acc: 0.9941\n",
      "Epoch 00028: val_acc improved from 0.99595 to 0.99619, saving model to mnist-cnn.hdf5\n",
      "393/393 [==============================] - 8s 19ms/step - loss: 0.0184 - acc: 0.9941 - val_loss: 0.0163 - val_acc: 0.9962\n",
      "Epoch 29/30\n"
     ]
    },
    {
     "name": "stdout",
     "output_type": "stream",
     "text": [
      "392/393 [============================>.] - ETA: 0s - loss: 0.0179 - acc: 0.9949\n",
      "Epoch 00029: val_acc did not improve from 0.99619\n",
      "393/393 [==============================] - 8s 19ms/step - loss: 0.0179 - acc: 0.9949 - val_loss: 0.0162 - val_acc: 0.9957\n",
      "Epoch 30/30\n",
      "391/393 [============================>.] - ETA: 0s - loss: 0.0180 - acc: 0.9941\n",
      "Epoch 00030: val_acc did not improve from 0.99619\n",
      "393/393 [==============================] - 8s 19ms/step - loss: 0.0179 - acc: 0.9941 - val_loss: 0.0168 - val_acc: 0.9960\n"
     ]
    }
   ],
   "source": [
    "batch_size = 96\n",
    "\n",
    "history = model.fit(datagen.flow(X_train,Y_train, batch_size=batch_size), \n",
    "                    epochs=30,\n",
    "                    validation_data=(X_val, Y_val),\n",
    "                    steps_per_epoch=X_train.shape[0] // batch_size,\n",
    "                    verbose=1,\n",
    "                    callbacks=[сheckpoint, learning_rate_reduction])"
   ]
  },
  {
   "cell_type": "code",
   "execution_count": 43,
   "metadata": {},
   "outputs": [],
   "source": [
    "model.load_weights('mnist-cnn.hdf5')"
   ]
  },
  {
   "cell_type": "code",
   "execution_count": 44,
   "metadata": {},
   "outputs": [
    {
     "data": {
      "image/png": "[encoded data removed]",
      "text/plain": [
       "<Figure size 432x288 with 1 Axes>"
      ]
     },
     "metadata": {
      "needs_background": "light"
     },
     "output_type": "display_data"
    }
   ],
   "source": [
    "plt.plot(history.history['acc'], \n",
    "         label='accuracy on train data')\n",
    "plt.plot(history.history['val_acc'], \n",
    "         label='accuracy on validation data')\n",
    "plt.xlabel('Epoch')\n",
    "plt.ylabel('accuracy')\n",
    "plt.legend()\n",
    "plt.show()"
   ]
  },
  {
   "cell_type": "markdown",
   "metadata": {},
   "source": [
    "### Making predictions and converting from categorical to classed"
   ]
  },
  {
   "cell_type": "code",
   "execution_count": 46,
   "metadata": {},
   "outputs": [],
   "source": [
    "predictions = model.predict(test)\n",
    "predictions = np.argmax(predictions, axis=1)"
   ]
  },
  {
   "cell_type": "markdown",
   "metadata": {},
   "source": [
    "### Save the result"
   ]
  },
  {
   "cell_type": "code",
   "execution_count": 47,
   "metadata": {},
   "outputs": [],
   "source": [
    "output = pd.DataFrame(columns = ['ImageId', 'Label'])\n",
    "output['ImageId'] = range(1, 28001)\n",
    "output['Label'] = predictions\n",
    "output.to_csv('Output.csv', index = False)"
   ]
  },
  {
   "cell_type": "markdown",
   "metadata": {},
   "source": [
    "## I reached top 10% on the leaderboard with the final score 0.99628. My previous model was without image generator and the score was 0.99357. So, we can see that generators can highly improve your model."
   ]
  }
 ],
 "metadata": {
  "kernelspec": {
   "display_name": "Python 3",
   "language": "python",
   "name": "python3"
  },
  "language_info": {
   "codemirror_mode": {
    "name": "ipython",
    "version": 3
   },
   "file_extension": ".py",
   "mimetype": "text/x-python",
   "name": "python",
   "nbconvert_exporter": "python",
   "pygments_lexer": "ipython3",
   "version": "3.6.8"
  }
 },
 "nbformat": 4,
 "nbformat_minor": 2
}
